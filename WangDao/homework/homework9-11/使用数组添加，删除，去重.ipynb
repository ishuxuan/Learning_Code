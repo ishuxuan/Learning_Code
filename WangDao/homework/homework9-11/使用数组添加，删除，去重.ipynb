{
 "cells": [
  {
   "cell_type": "code",
   "execution_count": 6,
   "id": "initial_id",
   "metadata": {
    "collapsed": true,
    "ExecuteTime": {
     "end_time": "2025-01-07T09:16:20.256807400Z",
     "start_time": "2025-01-07T09:16:20.242587Z"
    }
   },
   "outputs": [
    {
     "name": "stdout",
     "output_type": "stream",
     "text": [
      "[ 4  7  7 18 11 10  7 12 17 10 18 10  2 17  4 11  8  4 13 11]\n"
     ]
    }
   ],
   "source": [
    "import numpy as np\n",
    "import random\n",
    "data=np.array([random.randint(1,21) for i in range(20)])\n",
    "print(data)"
   ]
  },
  {
   "cell_type": "code",
   "execution_count": 8,
   "outputs": [
    {
     "name": "stdout",
     "output_type": "stream",
     "text": [
      "[ 4  7  7 18 11 10  7 12 17 10 18 10  2 17  4 11  8  4 13 11  1  2 10 11]\n"
     ]
    }
   ],
   "source": [
    "#使用数组添加\n",
    "data=np.append(data,[1,2,10,11])\n",
    "print(data)"
   ],
   "metadata": {
    "collapsed": false,
    "ExecuteTime": {
     "end_time": "2025-01-07T09:17:04.166486500Z",
     "start_time": "2025-01-07T09:17:04.141567800Z"
    }
   },
   "id": "cfb3c42990cbfa79"
  },
  {
   "cell_type": "code",
   "execution_count": 11,
   "outputs": [
    {
     "name": "stdout",
     "output_type": "stream",
     "text": [
      "[ 7  7 18 11 10  7 12 17 10 18 10  2 17 11  8 13 11  1  2 10 11]\n",
      "[ 7  7 18 11  7 12 17 10 18 10  2 17 11  8 13 11  1  2 10 11]\n"
     ]
    }
   ],
   "source": [
    "#使用数组删除\n",
    "data=data[data[:]!=4]\n",
    "print(data)\n",
    "data=np.delete(data,4)\n",
    "print(data)"
   ],
   "metadata": {
    "collapsed": false,
    "ExecuteTime": {
     "end_time": "2025-01-07T09:23:16.072883800Z",
     "start_time": "2025-01-07T09:23:16.051787800Z"
    }
   },
   "id": "cfed3afac5e95d22"
  },
  {
   "cell_type": "code",
   "execution_count": 12,
   "outputs": [
    {
     "name": "stdout",
     "output_type": "stream",
     "text": [
      "[ 1  2  7  8 10 11 12 13 17 18]\n"
     ]
    }
   ],
   "source": [
    "#使用数组去重\n",
    "data=np.unique(data)\n",
    "print(data)"
   ],
   "metadata": {
    "collapsed": false,
    "ExecuteTime": {
     "end_time": "2025-01-07T09:28:03.092994100Z",
     "start_time": "2025-01-07T09:28:03.059340600Z"
    }
   },
   "id": "8000c2e50ba50343"
  },
  {
   "cell_type": "code",
   "execution_count": null,
   "outputs": [],
   "source": [],
   "metadata": {
    "collapsed": false
   },
   "id": "a278060f2649087a"
  }
 ],
 "metadata": {
  "kernelspec": {
   "display_name": "Python 3",
   "language": "python",
   "name": "python3"
  },
  "language_info": {
   "codemirror_mode": {
    "name": "ipython",
    "version": 2
   },
   "file_extension": ".py",
   "mimetype": "text/x-python",
   "name": "python",
   "nbconvert_exporter": "python",
   "pygments_lexer": "ipython2",
   "version": "2.7.6"
  }
 },
 "nbformat": 4,
 "nbformat_minor": 5
}
